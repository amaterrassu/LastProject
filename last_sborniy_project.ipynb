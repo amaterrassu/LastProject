{
 "cells": [
  {
   "cell_type": "code",
   "execution_count": null,
   "id": "8bf8a0b1",
   "metadata": {},
   "outputs": [],
   "source": [
    "import pandas as pd\n",
    "import seaborn as sns\n",
    "from scipy import stats as st\n",
    "import scipy \n",
    "import matplotlib.pyplot as plt\n",
    "import numpy as np\n",
    "import math"
   ]
  },
  {
   "cell_type": "markdown",
   "id": "fa3223a8",
   "metadata": {},
   "source": [
    "Name — название игры\n",
    "\n",
    "Platform — платформа\n",
    "\n",
    "Year_of_Release — год выпуска\n",
    "\n",
    "Genre — жанр игры\n",
    "\n",
    "NA_sales — продажи в Северной Америке (миллионы проданных копий)\n",
    "\n",
    "EU_sales — продажи в Европе (миллионы проданных копий)\n",
    "\n",
    "JP_sales — продажи в Японии (миллионы проданных копий)\n",
    "\n",
    "Other_sales — продажи в других странах (миллионы проданных копий)\n",
    "\n",
    "Critic_Score — оценка критиков (максимум 100)\n",
    "\n",
    "User_Score — оценка пользователей (максимум 10)\n",
    "\n",
    "Rating — рейтинг от организации ESRB (англ. Entertainment Software Rating\n",
    "\n",
    "Board). Эта ассоциация определяет рейтинг компьютерных игр и присваивает\n",
    "им подходящую возрастную категорию."
   ]
  },
  {
   "cell_type": "markdown",
   "id": "74f02cf2",
   "metadata": {},
   "source": [
    "# Шаг 1 - готовим данные"
   ]
  },
  {
   "cell_type": "code",
   "execution_count": null,
   "id": "2f3ebae0",
   "metadata": {},
   "outputs": [],
   "source": [
    "try:\n",
    "    df = pd.read_csv('/Users/georgezagorsky/Desktop/SborniyProject/Games csv.csv')\n",
    "except:\n",
    "    df = pd.read_csv('/datasets/games.csv')\n",
    "df.head()"
   ]
  },
  {
   "cell_type": "code",
   "execution_count": null,
   "id": "fd473f4a",
   "metadata": {},
   "outputs": [],
   "source": [
    "def custom_hist(x : pd.Series):\n",
    "    plt.figure()\n",
    "    plt.hist(x, edgecolor = 'red', color = \"skyblue\", lw = 0) # plt.hist(data, color = \"skyblue\", lw=0)\n",
    "    plt.grid()\n",
    "    plt.xticks(rotation = 30) \n",
    "    \n",
    "def describe_columns(df: pd.DataFrame, col: str):\n",
    "    print(f'Пропуски: {sum(df[col].isna())}')\n",
    "    print(f'Тип переменной: {df.dtypes[col]}')"
   ]
  },
  {
   "cell_type": "code",
   "execution_count": null,
   "id": "53ee4e34",
   "metadata": {},
   "outputs": [],
   "source": [
    "df.info()"
   ]
  },
  {
   "cell_type": "markdown",
   "id": "7d70e154",
   "metadata": {},
   "source": [
    "## Предобработка данных"
   ]
  },
  {
   "cell_type": "code",
   "execution_count": null,
   "id": "ba982377",
   "metadata": {},
   "outputs": [],
   "source": [
    "# Name"
   ]
  },
  {
   "cell_type": "code",
   "execution_count": null,
   "id": "a617a648",
   "metadata": {},
   "outputs": [],
   "source": [
    "df.columns"
   ]
  },
  {
   "cell_type": "code",
   "execution_count": null,
   "id": "29d676ce",
   "metadata": {},
   "outputs": [],
   "source": [
    "df.columns = df.columns.str.lower()"
   ]
  },
  {
   "cell_type": "code",
   "execution_count": null,
   "id": "a6249175",
   "metadata": {},
   "outputs": [],
   "source": [
    "df.head()"
   ]
  },
  {
   "cell_type": "code",
   "execution_count": null,
   "id": "36254e65",
   "metadata": {},
   "outputs": [],
   "source": [
    "describe_columns(df, 'name')"
   ]
  },
  {
   "cell_type": "code",
   "execution_count": null,
   "id": "45b57957",
   "metadata": {},
   "outputs": [],
   "source": [
    "len(df)"
   ]
  },
  {
   "cell_type": "code",
   "execution_count": null,
   "id": "3618af6c",
   "metadata": {},
   "outputs": [],
   "source": [
    "df[df['name'].isnull()]\n",
    "df = df[~df['name'].isnull()]"
   ]
  },
  {
   "cell_type": "code",
   "execution_count": null,
   "id": "aa839f2b",
   "metadata": {},
   "outputs": [],
   "source": [
    "len(df)"
   ]
  },
  {
   "cell_type": "code",
   "execution_count": null,
   "id": "81b028d2",
   "metadata": {},
   "outputs": [],
   "source": [
    "df.groupby('name', as_index = False).agg({'genre' : 'count'}).sort_values('genre', ascending = False)"
   ]
  },
  {
   "cell_type": "code",
   "execution_count": null,
   "id": "efd0731a",
   "metadata": {},
   "outputs": [],
   "source": [
    "# platform"
   ]
  },
  {
   "cell_type": "code",
   "execution_count": null,
   "id": "42045282",
   "metadata": {},
   "outputs": [],
   "source": [
    "describe_columns(df, 'platform')"
   ]
  },
  {
   "cell_type": "code",
   "execution_count": null,
   "id": "6c4ee464",
   "metadata": {},
   "outputs": [],
   "source": [
    "df['platform'].unique()"
   ]
  },
  {
   "cell_type": "code",
   "execution_count": null,
   "id": "4a02eaa0",
   "metadata": {},
   "outputs": [],
   "source": [
    "df.head()"
   ]
  },
  {
   "cell_type": "code",
   "execution_count": null,
   "id": "452ca15a",
   "metadata": {},
   "outputs": [],
   "source": [
    "# year_of_realease"
   ]
  },
  {
   "cell_type": "code",
   "execution_count": null,
   "id": "904f35b0",
   "metadata": {},
   "outputs": [],
   "source": [
    "describe_columns(df, 'year_of_release')"
   ]
  },
  {
   "cell_type": "code",
   "execution_count": null,
   "id": "1b4d3f33",
   "metadata": {},
   "outputs": [],
   "source": [
    "custom_hist(df['year_of_release']); # Видно что за 2016 год нехватка информации"
   ]
  },
  {
   "cell_type": "code",
   "execution_count": null,
   "id": "e908c7dc",
   "metadata": {},
   "outputs": [],
   "source": [
    "df[df['year_of_release'].isnull()]['name'].head(30)"
   ]
  },
  {
   "cell_type": "code",
   "execution_count": null,
   "id": "98d08929",
   "metadata": {},
   "outputs": [],
   "source": [
    "df.head()"
   ]
  },
  {
   "cell_type": "code",
   "execution_count": null,
   "id": "5846a085",
   "metadata": {},
   "outputs": [],
   "source": [
    "df[df['year_of_release'].isnull()].head(40)"
   ]
  },
  {
   "cell_type": "code",
   "execution_count": null,
   "id": "473c462b",
   "metadata": {},
   "outputs": [],
   "source": [
    "df.head()"
   ]
  },
  {
   "cell_type": "code",
   "execution_count": null,
   "id": "0c3f7eb7",
   "metadata": {},
   "outputs": [],
   "source": [
    "df.isna().mean()"
   ]
  },
  {
   "cell_type": "code",
   "execution_count": null,
   "id": "df42634b",
   "metadata": {},
   "outputs": [],
   "source": [
    "df = df[~df['year_of_release'].isnull()]\n",
    "len(df)"
   ]
  },
  {
   "cell_type": "code",
   "execution_count": null,
   "id": "a65a0472",
   "metadata": {},
   "outputs": [],
   "source": [
    "df.isna().mean()"
   ]
  },
  {
   "cell_type": "code",
   "execution_count": null,
   "id": "cbdad8c7",
   "metadata": {},
   "outputs": [],
   "source": [
    "df['year_of_release'] = df['year_of_release'].astype('int64')"
   ]
  },
  {
   "cell_type": "code",
   "execution_count": null,
   "id": "cb905c26",
   "metadata": {},
   "outputs": [],
   "source": [
    "custom_hist(df['year_of_release'])"
   ]
  },
  {
   "cell_type": "code",
   "execution_count": null,
   "id": "f314721e",
   "metadata": {},
   "outputs": [],
   "source": [
    "# genre"
   ]
  },
  {
   "cell_type": "code",
   "execution_count": null,
   "id": "9a513545",
   "metadata": {},
   "outputs": [],
   "source": [
    "describe_columns(df, 'genre')"
   ]
  },
  {
   "cell_type": "code",
   "execution_count": null,
   "id": "877f1a54",
   "metadata": {},
   "outputs": [],
   "source": [
    "df['genre'].unique()"
   ]
  },
  {
   "cell_type": "code",
   "execution_count": null,
   "id": "964ade65",
   "metadata": {},
   "outputs": [],
   "source": [
    "df['genre'] = df['genre'].str.lower()"
   ]
  },
  {
   "cell_type": "code",
   "execution_count": null,
   "id": "f6d1d949",
   "metadata": {},
   "outputs": [],
   "source": [
    "# na_sales"
   ]
  },
  {
   "cell_type": "code",
   "execution_count": null,
   "id": "126f63bf",
   "metadata": {},
   "outputs": [],
   "source": [
    "df['na_sales'].describe()"
   ]
  },
  {
   "cell_type": "code",
   "execution_count": null,
   "id": "750898d3",
   "metadata": {},
   "outputs": [],
   "source": [
    "custom_hist(df['na_sales'])"
   ]
  },
  {
   "cell_type": "code",
   "execution_count": null,
   "id": "45747942",
   "metadata": {},
   "outputs": [],
   "source": [
    "df.head()"
   ]
  },
  {
   "cell_type": "code",
   "execution_count": null,
   "id": "703eef8d",
   "metadata": {},
   "outputs": [],
   "source": [
    "sns.boxplot(data = df['na_sales'])"
   ]
  },
  {
   "cell_type": "code",
   "execution_count": null,
   "id": "fa04f8c5",
   "metadata": {},
   "outputs": [],
   "source": [
    "df[df['na_sales'] == 0]"
   ]
  },
  {
   "cell_type": "code",
   "execution_count": null,
   "id": "aefceba9",
   "metadata": {},
   "outputs": [],
   "source": [
    "df['na_sales'].describe()"
   ]
  },
  {
   "cell_type": "code",
   "execution_count": null,
   "id": "ea192368",
   "metadata": {},
   "outputs": [],
   "source": [
    "print(np.quantile(df['na_sales'], 0.99))"
   ]
  },
  {
   "cell_type": "code",
   "execution_count": null,
   "id": "30d8d015",
   "metadata": {},
   "outputs": [],
   "source": [
    "df[df['na_sales'] == max(df['na_sales'])]"
   ]
  },
  {
   "cell_type": "code",
   "execution_count": null,
   "id": "f53c0928",
   "metadata": {},
   "outputs": [],
   "source": [
    "df[df['na_sales'] > 20]"
   ]
  },
  {
   "cell_type": "code",
   "execution_count": null,
   "id": "4210400d",
   "metadata": {},
   "outputs": [],
   "source": [
    "# eu_sales"
   ]
  },
  {
   "cell_type": "code",
   "execution_count": null,
   "id": "788eed5c",
   "metadata": {},
   "outputs": [],
   "source": [
    "df['eu_sales'].describe()"
   ]
  },
  {
   "cell_type": "code",
   "execution_count": null,
   "id": "91c87631",
   "metadata": {},
   "outputs": [],
   "source": [
    "print(np.quantile(df['eu_sales'], 0.99))"
   ]
  },
  {
   "cell_type": "code",
   "execution_count": null,
   "id": "b349baea",
   "metadata": {},
   "outputs": [],
   "source": [
    "df[df['eu_sales'] > 1.9456999999999969]"
   ]
  },
  {
   "cell_type": "code",
   "execution_count": null,
   "id": "99bc9dc7",
   "metadata": {},
   "outputs": [],
   "source": [
    "df[df['eu_sales'] == max(df['eu_sales'])]"
   ]
  },
  {
   "cell_type": "code",
   "execution_count": null,
   "id": "47860039",
   "metadata": {},
   "outputs": [],
   "source": [
    "describe_columns(df, 'eu_sales')"
   ]
  },
  {
   "cell_type": "code",
   "execution_count": null,
   "id": "612215be",
   "metadata": {},
   "outputs": [],
   "source": [
    "# jp_sales"
   ]
  },
  {
   "cell_type": "code",
   "execution_count": null,
   "id": "7c8a2225",
   "metadata": {},
   "outputs": [],
   "source": [
    "df['jp_sales'].describe()"
   ]
  },
  {
   "cell_type": "code",
   "execution_count": null,
   "id": "0a1fb89a",
   "metadata": {},
   "outputs": [],
   "source": [
    "# other_sales"
   ]
  },
  {
   "cell_type": "code",
   "execution_count": null,
   "id": "ef5c0def",
   "metadata": {},
   "outputs": [],
   "source": [
    "df['other_sales'].describe()"
   ]
  },
  {
   "cell_type": "code",
   "execution_count": null,
   "id": "4c959962",
   "metadata": {},
   "outputs": [],
   "source": [
    "df[df['other_sales'] > np.quantile(df['other_sales'], 0.99)]"
   ]
  },
  {
   "cell_type": "code",
   "execution_count": null,
   "id": "c68d43d4",
   "metadata": {},
   "outputs": [],
   "source": [
    "# critic_score"
   ]
  },
  {
   "cell_type": "code",
   "execution_count": null,
   "id": "723f3ddd",
   "metadata": {},
   "outputs": [],
   "source": [
    "df['critic_score'].describe()"
   ]
  },
  {
   "cell_type": "code",
   "execution_count": null,
   "id": "b94aae29",
   "metadata": {},
   "outputs": [],
   "source": [
    "df[df['critic_score'].isnull()].sample()"
   ]
  },
  {
   "cell_type": "code",
   "execution_count": null,
   "id": "c494da52",
   "metadata": {},
   "outputs": [],
   "source": [
    "# Мы не будем обрабатывать данные пропуски потому что оценка критиков скорее всего оценка критиков не имеет сильного влияние на продажи"
   ]
  },
  {
   "cell_type": "code",
   "execution_count": null,
   "id": "a238648a",
   "metadata": {},
   "outputs": [],
   "source": [
    "# user_score"
   ]
  },
  {
   "cell_type": "code",
   "execution_count": null,
   "id": "b6b8e4ac",
   "metadata": {},
   "outputs": [],
   "source": [
    "df['user_score'].describe()"
   ]
  },
  {
   "cell_type": "code",
   "execution_count": null,
   "id": "a124592d",
   "metadata": {},
   "outputs": [],
   "source": [
    "custom_hist(df['critic_score']);"
   ]
  },
  {
   "cell_type": "code",
   "execution_count": null,
   "id": "ad7f0b28",
   "metadata": {},
   "outputs": [],
   "source": [
    "df.dtypes"
   ]
  },
  {
   "cell_type": "code",
   "execution_count": null,
   "id": "67a78abf",
   "metadata": {},
   "outputs": [],
   "source": [
    "df['user_score'].unique()\n",
    "df['user_score'].head(30)"
   ]
  },
  {
   "cell_type": "code",
   "execution_count": null,
   "id": "778f7a05",
   "metadata": {},
   "outputs": [],
   "source": [
    "df[df['user_score'] == 'tbd']"
   ]
  },
  {
   "cell_type": "code",
   "execution_count": null,
   "id": "935592fa",
   "metadata": {},
   "outputs": [],
   "source": [
    "# tbd значит что еще нет не обсуждалось user_score - поэтому просто заменими на NaN"
   ]
  },
  {
   "cell_type": "code",
   "execution_count": null,
   "id": "ee985c9f",
   "metadata": {},
   "outputs": [],
   "source": [
    "df.loc[df['user_score'] == 'tbd', 'user_score'] = np.nan"
   ]
  },
  {
   "cell_type": "code",
   "execution_count": null,
   "id": "b9a2e675",
   "metadata": {},
   "outputs": [],
   "source": [
    "df[df['user_score'] == 'tbd']"
   ]
  },
  {
   "cell_type": "code",
   "execution_count": null,
   "id": "fe4113fa",
   "metadata": {},
   "outputs": [],
   "source": [
    "# rating"
   ]
  },
  {
   "cell_type": "code",
   "execution_count": null,
   "id": "5711ae25",
   "metadata": {},
   "outputs": [],
   "source": [
    "describe_columns(df, 'rating')"
   ]
  },
  {
   "cell_type": "code",
   "execution_count": null,
   "id": "677fa6ca",
   "metadata": {},
   "outputs": [],
   "source": [
    "df[df['rating'].isnull()].sample(5)"
   ]
  },
  {
   "cell_type": "code",
   "execution_count": null,
   "id": "fccd0496",
   "metadata": {},
   "outputs": [],
   "source": [
    "# видно что не стоит чистить эти значения, потому что rating никак не обозначается без учета critic_score and user_score"
   ]
  },
  {
   "cell_type": "code",
   "execution_count": null,
   "id": "b379dd92",
   "metadata": {},
   "outputs": [],
   "source": [
    "df['rating'].unique()"
   ]
  },
  {
   "cell_type": "code",
   "execution_count": null,
   "id": "d878eb9b",
   "metadata": {},
   "outputs": [],
   "source": [
    "df[df['rating'] == 'E']"
   ]
  },
  {
   "cell_type": "markdown",
   "id": "7af8be1f",
   "metadata": {},
   "source": [
    "54 percent received an E (Everyone) rating\n",
    "\n",
    "\n",
    "33 percent received a T (Teen) rating\n",
    "\n",
    "\n",
    "12 percent received an M (Mature) rating\n",
    "\n",
    "\n",
    "Less than 1 percent received an AO (Adults Only) rating [ref]"
   ]
  },
  {
   "cell_type": "code",
   "execution_count": null,
   "id": "517b0f34",
   "metadata": {},
   "outputs": [],
   "source": [
    "# Посчитайте суммарные продажи во всех регионах и запишите их в отдельный столбец."
   ]
  },
  {
   "cell_type": "code",
   "execution_count": null,
   "id": "7dd56bea",
   "metadata": {},
   "outputs": [],
   "source": [
    "df['region_sum'] = df['na_sales'] + df['eu_sales'] + df['jp_sales'] + df['other_sales']"
   ]
  },
  {
   "cell_type": "code",
   "execution_count": null,
   "id": "2bc1bdc6",
   "metadata": {},
   "outputs": [],
   "source": [
    "df.head()"
   ]
  },
  {
   "cell_type": "markdown",
   "id": "e4ac0257",
   "metadata": {},
   "source": [
    "# Шаг 3. Проведите исследовательский анализ данных"
   ]
  },
  {
   "cell_type": "code",
   "execution_count": null,
   "id": "1d4bdd33",
   "metadata": {},
   "outputs": [],
   "source": [
    "# Посмотрите, сколько игр выпускалось в разные годы. Важны ли данные за все периоды?"
   ]
  },
  {
   "cell_type": "code",
   "execution_count": null,
   "id": "eacd95b0",
   "metadata": {},
   "outputs": [],
   "source": [
    "df['year_of_release'].hist(bins = 20)"
   ]
  },
  {
   "cell_type": "code",
   "execution_count": null,
   "id": "ca8689a9",
   "metadata": {},
   "outputs": [],
   "source": [
    "df.groupby(['year_of_release', 'name'], as_index = False).agg({'jp_sales' : 'count'}).sort_values('jp_sales', ascending = False).rename(columns = {'jp_sales' : 'count'}).head(10)"
   ]
  },
  {
   "cell_type": "code",
   "execution_count": null,
   "id": "73644b49",
   "metadata": {},
   "outputs": [],
   "source": [
    "df.loc[df['year_of_release'] > 2010].groupby('year_of_release', as_index = False).agg({'jp_sales' : 'count'}).sort_values('jp_sales', ascending = False).rename(columns = {'jp_sales' : 'counter'})"
   ]
  },
  {
   "cell_type": "code",
   "execution_count": null,
   "id": "c1c844c9",
   "metadata": {},
   "outputs": [],
   "source": [
    "df.groupby('year_of_release', as_index = False).agg({'jp_sales' : 'count'}).sort_values('jp_sales', ascending = False).rename(columns = {'jp_sales' : 'counter'}).head(20)"
   ]
  },
  {
   "cell_type": "markdown",
   "id": "d2821305",
   "metadata": {},
   "source": [
    "Чтобы сделать предикт на 2017 год нам не нужны данные за все года, думаю актуальные года будуте с 2013 - 2016 год. Потому что есть тенденция уменьшая количества игр с каждым годом."
   ]
  },
  {
   "cell_type": "code",
   "execution_count": null,
   "id": "3912da78",
   "metadata": {},
   "outputs": [],
   "source": [
    "data = df.groupby('year_of_release', as_index = False).agg({'jp_sales' : 'count'}).sort_values('jp_sales', ascending = False).rename(columns = {'jp_sales' : 'counter'}).head(20)"
   ]
  },
  {
   "cell_type": "code",
   "execution_count": null,
   "id": "e1a73a83",
   "metadata": {},
   "outputs": [],
   "source": [
    "data"
   ]
  },
  {
   "cell_type": "code",
   "execution_count": null,
   "id": "4098d0a0",
   "metadata": {},
   "outputs": [],
   "source": [
    "data.loc[(data['year_of_release'] > 2012) & (data['year_of_release'] <= 2016)].groupby('year_of_release', as_index = False).agg({'counter' : 'sum'}).sort_values('counter', ascending = False).rename(columns = {'counter' : 'count_from_2013_till_2016'})"
   ]
  },
  {
   "cell_type": "markdown",
   "id": "9d3fb08e",
   "metadata": {},
   "source": [
    "### Посмотрите, как менялись продажи по платформам. Выберите платформы с наибольшими суммарными продажами и постройте распределение по годам. За какой характерный срок появляются новые и исчезают старые платформы?"
   ]
  },
  {
   "cell_type": "code",
   "execution_count": null,
   "id": "f8a9d2a9",
   "metadata": {},
   "outputs": [],
   "source": [
    "df.head()"
   ]
  },
  {
   "cell_type": "code",
   "execution_count": null,
   "id": "9eb7e3f9",
   "metadata": {},
   "outputs": [],
   "source": [
    "df.groupby('platform', as_index = False).agg({'region_sum' : 'sum'}).sort_values('region_sum', ascending = False).rename(columns = {'region_sum' : 'reuslt_sum_platform'}).head(10)"
   ]
  },
  {
   "cell_type": "code",
   "execution_count": null,
   "id": "b13f7f15",
   "metadata": {},
   "outputs": [],
   "source": [
    "# Возьмем первые 6 как лучшие продажи - и посмотрим на тенденцию"
   ]
  },
  {
   "cell_type": "code",
   "execution_count": null,
   "id": "9e14433b",
   "metadata": {},
   "outputs": [],
   "source": [
    "data = df.loc[(df['platform'] == 'PS2')].groupby('year_of_release', as_index = False).agg({'region_sum' : 'sum'}).sort_values('region_sum', ascending = False).rename(columns = {'region_sum' : 'result_sum'})"
   ]
  },
  {
   "cell_type": "code",
   "execution_count": null,
   "id": "96f8923e",
   "metadata": {},
   "outputs": [],
   "source": []
  },
  {
   "cell_type": "code",
   "execution_count": null,
   "id": "18bfcacd",
   "metadata": {},
   "outputs": [],
   "source": [
    "data"
   ]
  },
  {
   "cell_type": "code",
   "execution_count": null,
   "id": "b0e60bdb",
   "metadata": {},
   "outputs": [],
   "source": [
    "plt.bar(data['year_of_release'], data['result_sum'])\n",
    "plt.title('Смотрим на код и сумму продаж')\n",
    "plt.xlabel('year')\n",
    "plt.ylabel('Продажи')\n",
    "plt.show()"
   ]
  },
  {
   "cell_type": "code",
   "execution_count": null,
   "id": "3c19dbce",
   "metadata": {},
   "outputs": [],
   "source": [
    "# Примерно за 10 лет игровая приставка PS2 полностью перестала продаваться # X360"
   ]
  },
  {
   "cell_type": "code",
   "execution_count": null,
   "id": "9254714e",
   "metadata": {},
   "outputs": [],
   "source": [
    "df.head()"
   ]
  },
  {
   "cell_type": "code",
   "execution_count": null,
   "id": "22368308",
   "metadata": {},
   "outputs": [],
   "source": [
    "data = df.loc[df['platform'] == 'X360'].groupby('year_of_release', as_index = False).agg({'region_sum' : 'sum'}).sort_values('region_sum', ascending = False).rename(columns = {'region_sum' : 'result_sum'}).reset_index()"
   ]
  },
  {
   "cell_type": "code",
   "execution_count": null,
   "id": "54c62e3e",
   "metadata": {},
   "outputs": [],
   "source": [
    "plt.bar(data['year_of_release'], data['result_sum'])\n",
    "plt.title('Смотрим на код и сумму продаж')\n",
    "plt.xlabel('year')\n",
    "plt.ylabel('Продажи')\n",
    "plt.show()"
   ]
  },
  {
   "cell_type": "code",
   "execution_count": null,
   "id": "d7965d00",
   "metadata": {},
   "outputs": [],
   "source": [
    "data"
   ]
  },
  {
   "cell_type": "code",
   "execution_count": null,
   "id": "477f5d67",
   "metadata": {},
   "outputs": [],
   "source": [
    "# Получается примерно тоже самое - продажи то возрастали, то убывали примерно граница 2010 год.\n",
    "# Но так как на рынок ога вышлла в 2006 году, то 10 лет получатеся как и в прошлом анализе"
   ]
  },
  {
   "cell_type": "markdown",
   "id": "9b6478f6",
   "metadata": {},
   "source": [
    "## PS3"
   ]
  },
  {
   "cell_type": "code",
   "execution_count": null,
   "id": "e931680d",
   "metadata": {},
   "outputs": [],
   "source": [
    "df.head()"
   ]
  },
  {
   "cell_type": "code",
   "execution_count": null,
   "id": "703493f9",
   "metadata": {},
   "outputs": [],
   "source": [
    "data = df.loc[df['platform'] == 'PS3'].groupby('year_of_release', as_index = False).agg({'region_sum' : 'sum'}).sort_values('region_sum', ascending = False).rename(columns = {'region_sum' : 'result_sum'})"
   ]
  },
  {
   "cell_type": "code",
   "execution_count": null,
   "id": "13256e35",
   "metadata": {},
   "outputs": [],
   "source": [
    "data"
   ]
  },
  {
   "cell_type": "code",
   "execution_count": null,
   "id": "8a18f602",
   "metadata": {},
   "outputs": [],
   "source": [
    "plt.bar(data['year_of_release'], data['result_sum'])\n",
    "plt.title('Смотрим на код и сумму продаж')\n",
    "plt.xlabel('year')\n",
    "plt.ylabel('Продажи')\n",
    "plt.show()"
   ]
  },
  {
   "cell_type": "code",
   "execution_count": null,
   "id": "fd9c0770",
   "metadata": {},
   "outputs": [],
   "source": [
    "# Видна примерно такая же тенденция - посмотрим еще 1 вариант чтобы удостовериться"
   ]
  },
  {
   "cell_type": "markdown",
   "id": "0876e2e2",
   "metadata": {},
   "source": [
    "## Wii"
   ]
  },
  {
   "cell_type": "code",
   "execution_count": null,
   "id": "8e43b22a",
   "metadata": {},
   "outputs": [],
   "source": [
    "data = df.loc[df['platform'] == 'Wii'].groupby('year_of_release', as_index = False).agg({'region_sum' : 'sum'}).sort_values('region_sum', ascending = False).rename(columns = {'region_sum' : 'result_sum'})"
   ]
  },
  {
   "cell_type": "code",
   "execution_count": null,
   "id": "aea49146",
   "metadata": {},
   "outputs": [],
   "source": [
    "data"
   ]
  },
  {
   "cell_type": "code",
   "execution_count": null,
   "id": "f54e6d6e",
   "metadata": {},
   "outputs": [],
   "source": [
    "plt.bar(data['year_of_release'], data['result_sum'])\n",
    "plt.title('Смотрим на код и сумму продаж')\n",
    "plt.xlabel('year')\n",
    "plt.ylabel('Продажи')\n",
    "plt.show()"
   ]
  },
  {
   "cell_type": "code",
   "execution_count": null,
   "id": "7e8f00e0",
   "metadata": {},
   "outputs": [],
   "source": [
    "# Думаю достаточно, как актуальный период мы возьмем данные с 2010 года"
   ]
  },
  {
   "cell_type": "markdown",
   "id": "f204745d",
   "metadata": {},
   "source": [
    "## Возьмите данные за соответствующий актуальный период. Актуальный период определите самостоятельно в результате исследования предыдущих вопросов. Основной фактор — эти данные помогут построить прогноз на 2017 год.\n",
    "Не учитывайте в работе данные за предыдущие годы."
   ]
  },
  {
   "cell_type": "markdown",
   "id": "edab96ac",
   "metadata": {},
   "source": [
    "Везде есть теденция 10 лет - исходя из наших баров мы увидели что в больнистве своем значения крутятся около 2010 года, поэтому с 2010-2016 года возьмем как актуальный период"
   ]
  },
  {
   "cell_type": "code",
   "execution_count": null,
   "id": "230508b1",
   "metadata": {},
   "outputs": [],
   "source": [
    "df = df[df['year_of_release'] >= 2010]"
   ]
  },
  {
   "cell_type": "code",
   "execution_count": null,
   "id": "0d96d223",
   "metadata": {},
   "outputs": [],
   "source": [
    "len(df)"
   ]
  },
  {
   "cell_type": "markdown",
   "id": "77db15bb",
   "metadata": {},
   "source": [
    "## Какие платформы лидируют по продажам, растут или падают? Выберите несколько потенциально прибыльных платформ."
   ]
  },
  {
   "cell_type": "code",
   "execution_count": null,
   "id": "b8228d99",
   "metadata": {},
   "outputs": [],
   "source": [
    "df['platform'].unique()"
   ]
  },
  {
   "cell_type": "code",
   "execution_count": null,
   "id": "25acbdf4",
   "metadata": {},
   "outputs": [],
   "source": [
    "df.head()"
   ]
  },
  {
   "cell_type": "code",
   "execution_count": null,
   "id": "a41a65f8",
   "metadata": {},
   "outputs": [],
   "source": [
    "df.groupby('platform', as_index = False).agg({'region_sum' : 'sum'}).sort_values('region_sum', ascending = False).rename(columns = {'region_sum' : 'result_platform_sum'})"
   ]
  },
  {
   "cell_type": "code",
   "execution_count": null,
   "id": "c2691c23",
   "metadata": {},
   "outputs": [],
   "source": [
    "data = df.loc[df['platform'] == 'PS3'].groupby('year_of_release', as_index = False).agg({'region_sum' : 'sum'}).sort_values('region_sum', ascending = False).rename(columns = {'region_sum' : 'res_sum'})"
   ]
  },
  {
   "cell_type": "code",
   "execution_count": null,
   "id": "316bc39f",
   "metadata": {},
   "outputs": [],
   "source": [
    "data"
   ]
  },
  {
   "cell_type": "code",
   "execution_count": null,
   "id": "47afe1d9",
   "metadata": {},
   "outputs": [],
   "source": [
    "plt.bar(data['year_of_release'], data['res_sum'])\n",
    "plt.title('Смотрим на код и сумму продаж')\n",
    "plt.xlabel('year')\n",
    "plt.ylabel('Продажи')\n",
    "plt.show()"
   ]
  },
  {
   "cell_type": "markdown",
   "id": "c88e6df7",
   "metadata": {},
   "source": [
    "Не смотря на то что ПС3 казалась самой прибильной - с ккаждым годом ее доход падает в арифметический прогрессии"
   ]
  },
  {
   "cell_type": "code",
   "execution_count": null,
   "id": "8dad5962",
   "metadata": {},
   "outputs": [],
   "source": [
    "# X360"
   ]
  },
  {
   "cell_type": "code",
   "execution_count": null,
   "id": "13b28a63",
   "metadata": {},
   "outputs": [],
   "source": [
    "data = df.loc[df['platform'] == 'X360'].groupby('year_of_release', as_index = False).agg({'region_sum' : 'sum'}).sort_values('region_sum', ascending = False).rename(columns = {'region_sum' : 'res_sum'})"
   ]
  },
  {
   "cell_type": "code",
   "execution_count": null,
   "id": "bb0e8cc2",
   "metadata": {},
   "outputs": [],
   "source": [
    "data"
   ]
  },
  {
   "cell_type": "code",
   "execution_count": null,
   "id": "77dbf3f7",
   "metadata": {},
   "outputs": [],
   "source": [
    "plt.bar(data['year_of_release'], data['res_sum'])\n",
    "plt.title('Смотрим на код и сумму продаж')\n",
    "plt.xlabel('year')\n",
    "plt.ylabel('Продажи')\n",
    "plt.show()"
   ]
  },
  {
   "cell_type": "code",
   "execution_count": null,
   "id": "6f86242d",
   "metadata": {},
   "outputs": [],
   "source": [
    "# Такая же ситуация и с X360"
   ]
  },
  {
   "cell_type": "code",
   "execution_count": null,
   "id": "6dec91f5",
   "metadata": {},
   "outputs": [],
   "source": [
    "df.groupby('platform', as_index = False).agg({'region_sum' : 'sum'}).sort_values('region_sum', ascending = False).rename(columns = {'region_sum' : 'result_platform_sum'})"
   ]
  },
  {
   "cell_type": "code",
   "execution_count": null,
   "id": "9615ad5b",
   "metadata": {},
   "outputs": [],
   "source": [
    "stack_for_check = ['PS4', '3DS', 'Wii', 'XOne', 'DS', 'PC', 'WiiU', 'PSP', 'PSV', 'PS2']\n",
    "\n",
    "for element in stack_for_check:\n",
    "    \n",
    "    data = df.loc[df['platform'] == element].groupby('year_of_release', as_index = False).agg({'region_sum' : 'sum'}).sort_values('region_sum', ascending = False).rename(columns = {'region_sum' : 'res_sum'})\n",
    "    plt.bar(data['year_of_release'], data['res_sum'])\n",
    "    plt.title('Смотрим на код и сумму продаж')\n",
    "    plt.xlabel('year')\n",
    "    plt.ylabel(f'Продажи {element}')\n",
    "    plt.show()"
   ]
  },
  {
   "cell_type": "markdown",
   "id": "98ad16e0",
   "metadata": {},
   "source": [
    "### Можно выделить 3 основных продукта которые могут быть теоретически прибыльными\n",
    "\n",
    "    1) PS4\n",
    "    2) XOne\n",
    "    3) PSV"
   ]
  },
  {
   "cell_type": "markdown",
   "id": "10c56ae3",
   "metadata": {},
   "source": [
    "### Постройте график «ящик с усами» по глобальным продажам игр в разбивке по платформам. Опишите результат."
   ]
  },
  {
   "cell_type": "code",
   "execution_count": null,
   "id": "1a3aabd0",
   "metadata": {},
   "outputs": [],
   "source": [
    "df.head()"
   ]
  },
  {
   "cell_type": "code",
   "execution_count": null,
   "id": "ecb0a8a8",
   "metadata": {},
   "outputs": [],
   "source": [
    "data = df.groupby('platform', as_index = False).agg({'region_sum' : 'sum'}).sort_values('region_sum', ascending = False).rename(columns = {'region_sum' : 'res_sum'})"
   ]
  },
  {
   "cell_type": "code",
   "execution_count": null,
   "id": "6ec80adc",
   "metadata": {},
   "outputs": [],
   "source": [
    "data"
   ]
  },
  {
   "cell_type": "code",
   "execution_count": null,
   "id": "c8898be1",
   "metadata": {},
   "outputs": [],
   "source": [
    "plt.boxplot(data['res_sum'], vert = True, widths = 0.7)\n",
    "plt.title('Ящик с усами по продажам')\n",
    "plt.xlabel('X')\n",
    "plt.ylabel('Y')\n",
    "plt.show()"
   ]
  },
  {
   "cell_type": "markdown",
   "id": "63199a3b",
   "metadata": {},
   "source": [
    "    Ящик с усами выглядит очень хорошо, есть только один выброс у PS3, мы это уже видели и точно понимаем что она из себя представляет"
   ]
  },
  {
   "cell_type": "code",
   "execution_count": null,
   "id": "ddf38617",
   "metadata": {},
   "outputs": [],
   "source": [
    "df.isna().mean()"
   ]
  },
  {
   "cell_type": "markdown",
   "id": "d8858bb6",
   "metadata": {},
   "source": [
    "### Посмотрите, как влияют на продажи внутри одной популярной платформы отзывы пользователей и критиков. Постройте диаграмму рассеяния и посчитайте корреляцию между отзывами и продажами. Сформулируйте выводы."
   ]
  },
  {
   "cell_type": "code",
   "execution_count": null,
   "id": "859662ab",
   "metadata": {},
   "outputs": [],
   "source": [
    "df.head()"
   ]
  },
  {
   "cell_type": "code",
   "execution_count": null,
   "id": "f135a7ce",
   "metadata": {},
   "outputs": [],
   "source": [
    "# hw.plot(x='height', y='weight', kind='scatter') "
   ]
  },
  {
   "cell_type": "code",
   "execution_count": null,
   "id": "ecd38012",
   "metadata": {},
   "outputs": [],
   "source": [
    "# Возьмем популярную плафторму PS4 - она мне кажется самой выгодной из из всех"
   ]
  },
  {
   "cell_type": "code",
   "execution_count": null,
   "id": "bbfe7d86",
   "metadata": {},
   "outputs": [],
   "source": [
    "plt.scatter(data = df.loc[df['platform'] == 'PS4'], x = 'region_sum', y = 'critic_score', marker = '1', alpha = 0.3)\n",
    "plt.xlabel('sum_region')\n",
    "plt.title('scatter plot sum and score')\n",
    "plt.ylabel('critic_score')\n",
    "plt.show()"
   ]
  },
  {
   "cell_type": "code",
   "execution_count": null,
   "id": "24e87881",
   "metadata": {},
   "outputs": [],
   "source": [
    "plt.scatter(data = df.loc[df['platform'] == 'PS4'], x = 'region_sum', y = 'user_score', marker = '1', alpha = 0.3)\n",
    "plt.xlabel('sum_region')\n",
    "plt.title('scatter plot sum and score')\n",
    "plt.ylabel('user_score')\n",
    "plt.show()"
   ]
  },
  {
   "cell_type": "markdown",
   "id": "c4493b98",
   "metadata": {},
   "source": [
    "    С одной стороны нет линейная зависимости между этими двумя велечинами,но опять же есть одно но\n",
    "    Если точно смотреть на график то можно увидеть что по какой-то причине, если отзывы критиков выше 70, то игра продается гораздо лучше чем при меньшем количестве отзывов, но также стоит отметить что оценки пользователей не очень влияют на продажи,хотя мне казалось что должно быть наоборот"
   ]
  },
  {
   "cell_type": "code",
   "execution_count": null,
   "id": "fc17670f",
   "metadata": {},
   "outputs": [],
   "source": [
    "df.loc[df['platform'] == 'PS4']['critic_score'].corr(df.loc[df['platform'] == 'PS4']['region_sum'])"
   ]
  },
  {
   "cell_type": "code",
   "execution_count": null,
   "id": "9ee3411b",
   "metadata": {},
   "outputs": [],
   "source": [
    "df.head()"
   ]
  },
  {
   "cell_type": "code",
   "execution_count": null,
   "id": "005a6220",
   "metadata": {},
   "outputs": [],
   "source": [
    "df.info()"
   ]
  },
  {
   "cell_type": "code",
   "execution_count": null,
   "id": "829bc0a4",
   "metadata": {},
   "outputs": [],
   "source": [
    "df.loc[df['user_score'] == 'tbd']"
   ]
  },
  {
   "cell_type": "code",
   "execution_count": null,
   "id": "decb3fb2",
   "metadata": {},
   "outputs": [],
   "source": [
    "df['user_score'] = df['user_score'].astype('float64')"
   ]
  },
  {
   "cell_type": "code",
   "execution_count": null,
   "id": "01e08032",
   "metadata": {},
   "outputs": [],
   "source": [
    "df.loc[df['platform'] == 'PS4']['user_score'].corr(df.loc[df['platform'] == 'PS4']['region_sum'])"
   ]
  },
  {
   "cell_type": "markdown",
   "id": "c2adc074",
   "metadata": {},
   "source": [
    "    Вывод очень простой. Есть зависимость между мнением критиков и продажами, она не линейная конечно, но 0.4 кэф корреляции очень даже хорош. А вот зависимости между между мнением обычных людей и продажами - нет. Странно) Думал что будет наоборот. Идем дальше"
   ]
  },
  {
   "cell_type": "markdown",
   "id": "296c5402",
   "metadata": {},
   "source": [
    "### Соотнесите выводы с продажами игр на других платформах."
   ]
  },
  {
   "cell_type": "code",
   "execution_count": null,
   "id": "08b87b9b",
   "metadata": {},
   "outputs": [],
   "source": [
    "data = df.groupby('platform', as_index = False).agg({'user_score' : 'count'}).sort_values('user_score' , ascending = False).rename(columns = {'user_score' : 'counter'})"
   ]
  },
  {
   "cell_type": "code",
   "execution_count": null,
   "id": "280aed33",
   "metadata": {},
   "outputs": [],
   "source": [
    "data"
   ]
  },
  {
   "cell_type": "code",
   "execution_count": null,
   "id": "25ef5978",
   "metadata": {},
   "outputs": [],
   "source": [
    "stack = list(data.loc[data['platform'] != 'PS4', 'platform'])\n",
    "\n",
    "stack"
   ]
  },
  {
   "cell_type": "code",
   "execution_count": null,
   "id": "d2aba891",
   "metadata": {},
   "outputs": [],
   "source": [
    "\n",
    "for el in stack:\n",
    "    \n",
    "    plt.figure(figsize=(7, 3))\n",
    "    plt.scatter(data = df.loc[df['platform'] == el], x = 'region_sum', y = 'user_score', marker = '1', alpha = 0.3)\n",
    "    plt.xlabel(f'sum_region {el}')\n",
    "    plt.title('scatter plot sum and score')\n",
    "    plt.ylabel('user_score')\n",
    "    plt.show()\n",
    "    \n",
    "    corr_pirson = df.loc[df['platform'] == el]['user_score'].corr(df.loc[df['platform'] == el]['region_sum'])\n",
    "    print(f'Корелляция пирсона у {el} следующая : {corr_pirson}')\n",
    "    length = len(df.loc[df['platform'] == el]['critic_score'])\n",
    "    print(f'Длинна получившегося датасета : {length}')\n",
    "    "
   ]
  },
  {
   "cell_type": "code",
   "execution_count": null,
   "id": "d5c31c0a",
   "metadata": {},
   "outputs": [],
   "source": [
    "\n",
    "for el in stack:\n",
    "    \n",
    "    plt.figure(figsize=(7, 3))\n",
    "    plt.scatter(data = df.loc[df['platform'] == el], x = 'region_sum', y = 'critic_score', marker = '1', alpha = 0.3)\n",
    "    plt.xlabel(f'sum_region {el}')\n",
    "    plt.title('scatter plot sum and score')\n",
    "    plt.ylabel('critic_score')\n",
    "    plt.show()\n",
    "    \n",
    "    corr_pirson = df.loc[df['platform'] == el]['critic_score'].corr(df.loc[df['platform'] == el]['region_sum'])\n",
    "    print(f'Корелляция пирсона у {el} следующая : {corr_pirson}')\n",
    "    length = len(df.loc[df['platform'] == el]['critic_score'])\n",
    "    print(f'Длинна получившегося датасета : {length}')\n",
    "    "
   ]
  },
  {
   "cell_type": "code",
   "execution_count": null,
   "id": "754f4146",
   "metadata": {},
   "outputs": [],
   "source": [
    "df['platform'].unique()"
   ]
  },
  {
   "cell_type": "code",
   "execution_count": null,
   "id": "40129be7",
   "metadata": {},
   "outputs": [],
   "source": [
    "df.loc[df['platform'] == '3DS']"
   ]
  },
  {
   "cell_type": "markdown",
   "id": "84914196",
   "metadata": {},
   "source": [
    "    Наши выводы частично подтвердились. На самом деле было заметно что даже user_score в других местах показывал себя очень неплохо с коэф корреляции порой доходящий до 24 процентов. Но опять же такое есть не для всего, а critic_score все было очень наглядно показано что везде коэф корреляции заведомо больше нуля и даже больше 0.2. Хотя само собой это не линейная зависимсть, но ее можно назвать хоть какой-то зависимостью."
   ]
  },
  {
   "cell_type": "markdown",
   "id": "6a48bab0",
   "metadata": {},
   "source": [
    "### Посмотрите на общее распределение игр по жанрам. Что можно сказать о самых прибыльных жанрах? Выделяются ли жанры с высокими и низкими продажами?\n"
   ]
  },
  {
   "cell_type": "code",
   "execution_count": null,
   "id": "ffb5a6f0",
   "metadata": {},
   "outputs": [],
   "source": [
    "df.head()"
   ]
  },
  {
   "cell_type": "code",
   "execution_count": null,
   "id": "79539430",
   "metadata": {},
   "outputs": [],
   "source": [
    "df.groupby('genre', as_index = False).agg({'critic_score' : 'count'}).sort_values('critic_score', ascending = False).rename(columns = {'critic_score' : 'counter'})\n",
    "# Самые популярные жанры"
   ]
  },
  {
   "cell_type": "code",
   "execution_count": null,
   "id": "ec9c298d",
   "metadata": {},
   "outputs": [],
   "source": [
    "df.groupby('genre', as_index = False).agg({'region_sum' : 'sum'}).sort_values('region_sum', ascending = False).rename(columns = {'region_sum' : 'result_genre_sum'})"
   ]
  },
  {
   "cell_type": "markdown",
   "id": "af3fe359",
   "metadata": {},
   "source": [
    "    Получается линейная зависимость между количетсвом игр в данном жанре и их сумарными продажами. Это и логично. Чем больше ты продаешь тем больше ты получишь при условии прмиерно одинаковых ценовых погрешностей."
   ]
  },
  {
   "cell_type": "code",
   "execution_count": null,
   "id": "61714908",
   "metadata": {},
   "outputs": [],
   "source": [
    "df.loc[df['genre'] == 'action'].groupby('year_of_release').agg({'region_sum' : 'sum'}).sort_values('region_sum', ascending = False).rename(columns = {'region_sum' : 'result_reg_sum'})"
   ]
  },
  {
   "cell_type": "markdown",
   "id": "fa2760f9",
   "metadata": {},
   "source": [
    "    Не смотря на то жанр экшн самый популярный, его доля на рынке с каждым годом слишком сильно уменьшается, поэтому скорее всего к 2017 году его зароботок будет слишком мал."
   ]
  },
  {
   "cell_type": "code",
   "execution_count": null,
   "id": "8f5cf8e4",
   "metadata": {},
   "outputs": [],
   "source": [
    "df.loc[df['genre'] == 'puzzle'].groupby('year_of_release').agg({'region_sum' : 'sum'}).sort_values('region_sum', ascending = False).rename(columns = {'region_sum' : 'result_sum'})"
   ]
  },
  {
   "cell_type": "code",
   "execution_count": null,
   "id": "b648156e",
   "metadata": {},
   "outputs": [],
   "source": [
    "# Ситуация с puzzle примерно похожая"
   ]
  },
  {
   "cell_type": "code",
   "execution_count": null,
   "id": "c5287af4",
   "metadata": {},
   "outputs": [],
   "source": [
    "df.loc[df['genre'] == 'shooter'].groupby('year_of_release', as_index = False).agg({'region_sum' : 'sum'}).sort_values('region_sum', ascending = False).rename(columns = {'region_sum' : 'result_sum'})"
   ]
  },
  {
   "cell_type": "markdown",
   "id": "da2d5d4a",
   "metadata": {},
   "source": [
    "    С шутерами я так и думал что ситуация неоднозначная - я думал что их популярность наоборот с каждым годом должна возрастать. Но какой вывод мы можем сделать? Пазлы просто всегда были не популярны среди всех жанров, пик пазлов составил всего лишь 11 миллионнов что даже примерно не сравниться с первым местом, а вот экшн на своемв пик 2013 года показывал очень высокие суммы, но у обоих есть теденция к уменьшению продаж в каждом году."
   ]
  },
  {
   "cell_type": "markdown",
   "id": "e2b96a59",
   "metadata": {},
   "source": [
    "# Шаг 4. Составьте портрет пользователя каждого региона"
   ]
  },
  {
   "cell_type": "code",
   "execution_count": null,
   "id": "4bf36bf8",
   "metadata": {},
   "outputs": [],
   "source": [
    "df.sample(5)"
   ]
  },
  {
   "cell_type": "code",
   "execution_count": null,
   "id": "cc4b41ac",
   "metadata": {},
   "outputs": [],
   "source": [
    "# Самые популярные платформы (топ-5). Опишите различия в долях продаж.\n",
    "df.groupby('platform', as_index = False).agg({'na_sales' : 'sum'}).sort_values('na_sales', ascending = False).rename(columns = {'na_sales' : 'res_na_sales'}).head(5)"
   ]
  },
  {
   "cell_type": "code",
   "execution_count": null,
   "id": "e2ba52d3",
   "metadata": {},
   "outputs": [],
   "source": [
    "# Самые популярные платформы (топ-5). Опишите различия в долях продаж.\n",
    "df.groupby('platform', as_index = False).agg({'jp_sales' : 'sum'}).sort_values('jp_sales', ascending = False).rename(columns = {'jp_sales' : 'res_jp_sales'}).head(5)"
   ]
  },
  {
   "cell_type": "code",
   "execution_count": null,
   "id": "8592b954",
   "metadata": {},
   "outputs": [],
   "source": [
    "# Самые популярные платформы (топ-5). Опишите различия в долях продаж.\n",
    "df.groupby('platform', as_index = False).agg({'eu_sales' : 'sum'}).sort_values('eu_sales', ascending = False).rename(columns = {'eu_sales' : 'res_eu_sales'}).head(5)"
   ]
  },
  {
   "cell_type": "markdown",
   "id": "4d99c2b6",
   "metadata": {},
   "source": [
    "    Если сравнивать 2 региона na, eu их самые популярные платформу +- похожи, но есть явная разница в долях между этими двумя регионами. Продажи PS3 равны, но вот X360 оказался гораздо популярнее в na, чем в eu. С плейстешен 4 ситуация обратная. \n",
    "    А если смотреть на jp, там есть только одно совпадение по PS3, но разница в долях тут очевидна, в 3 и в 6 раз меньше чем у двух других регионов. И все остальные плафторму имеют маленькую выручку в соотвествии с любыми другими в na, eu"
   ]
  },
  {
   "cell_type": "markdown",
   "id": "e5b862ad",
   "metadata": {},
   "source": [
    "### Самые популярные жанры (топ-5). Поясните разницу."
   ]
  },
  {
   "cell_type": "code",
   "execution_count": null,
   "id": "7755989b",
   "metadata": {},
   "outputs": [],
   "source": [
    "df.head()"
   ]
  },
  {
   "cell_type": "code",
   "execution_count": null,
   "id": "54b63849",
   "metadata": {},
   "outputs": [],
   "source": [
    "df.groupby('genre', as_index = False).agg({'na_sales' : 'sum'}).sort_values('na_sales', ascending = False).rename(columns = {'na_sales' : 'res_sum_per_genre'}).head(5)"
   ]
  },
  {
   "cell_type": "code",
   "execution_count": null,
   "id": "b18360f0",
   "metadata": {},
   "outputs": [],
   "source": [
    "df.groupby('genre', as_index = False).agg({'eu_sales' : 'sum'}).sort_values('eu_sales', ascending = False).rename(columns = {'eu_sales' : 'res_sum_per_genre'}).head(5)"
   ]
  },
  {
   "cell_type": "code",
   "execution_count": null,
   "id": "06fd3c54",
   "metadata": {},
   "outputs": [],
   "source": [
    "df.groupby('genre', as_index = False).agg({'jp_sales' : 'sum'}).sort_values('jp_sales', ascending = False).rename(columns = {'jp_sales' : 'res_sum_per_genre'}).head(5)"
   ]
  },
  {
   "cell_type": "markdown",
   "id": "0f5eb4a8",
   "metadata": {},
   "source": [
    "    Опять же если сравнивать na, eu у них выручки с na гораздо более успешные чем у eu, горздо больше покупателей. Самыми популярным жанром оказался action, shooter, онт +- равны между собой. Но по всем параметрам na лучше чем eu. Но при сравнении с jp_sales имеем совсем другое, action выручка которая в двух прошлых была максимальной, здесь имеет оборот в 2 и 3 раза меньше чем в другионах, а самый же популярный жанр это role_playing, который по выручке обгоняет равзке что eu"
   ]
  },
  {
   "cell_type": "markdown",
   "id": "680c8035",
   "metadata": {},
   "source": [
    "### Влияет ли рейтинг ESRB на продажи в отдельном регионе?"
   ]
  },
  {
   "cell_type": "code",
   "execution_count": null,
   "id": "badc3197",
   "metadata": {},
   "outputs": [],
   "source": [
    "df.head()"
   ]
  },
  {
   "cell_type": "code",
   "execution_count": null,
   "id": "55228c9b",
   "metadata": {},
   "outputs": [],
   "source": [
    "df['rating'].unique()"
   ]
  },
  {
   "cell_type": "code",
   "execution_count": null,
   "id": "76e9ba98",
   "metadata": {},
   "outputs": [],
   "source": [
    "df.groupby('rating', as_index = False).agg({'na_sales' : 'sum'}).sort_values('na_sales', ascending = False).rename(columns = {'na_sales' : 'res_sum'})"
   ]
  },
  {
   "cell_type": "code",
   "execution_count": null,
   "id": "7ac2a8e0",
   "metadata": {},
   "outputs": [],
   "source": [
    "df.groupby('rating', as_index = False).agg({'eu_sales' : 'sum'}).sort_values('eu_sales', ascending = False).rename(columns = {'eu_sales' : 'res_sum'})"
   ]
  },
  {
   "cell_type": "code",
   "execution_count": null,
   "id": "acd3c252",
   "metadata": {},
   "outputs": [],
   "source": [
    "df.groupby('rating', as_index = False).agg({'jp_sales' : 'sum'}).sort_values('jp_sales', ascending = False).rename(columns = {'jp_sales' : 'res_sum'})"
   ]
  },
  {
   "cell_type": "markdown",
   "id": "4cde1037",
   "metadata": {},
   "source": [
    "    Во всех трех регионах ситуация +- похожая, но в eu and na, игры с рейтингом mature-злелый почему-то приносит наибольший доход. Странно, но тут уже зависит от того во сколько человек себя зрелым считает) Я думал что игры под Everyone должны приносить набиольшой доход потому что нет никаких ограничений. В то время как в jp, практически тоже самое, но продажи по рейтингу everyone являются самыми лучшими - но стоит учитывать что там и выборка по количетсву продаж будет завдеемо меньше."
   ]
  },
  {
   "cell_type": "markdown",
   "id": "1d6b449c",
   "metadata": {},
   "source": [
    "# Шаг 5. Проверьте гипотезы"
   ]
  },
  {
   "cell_type": "markdown",
   "id": "53e5f1d7",
   "metadata": {},
   "source": [
    "### Средние пользовательские рейтинги платформ Xbox One и PC одинаковые;"
   ]
  },
  {
   "cell_type": "code",
   "execution_count": null,
   "id": "c96d2df0",
   "metadata": {},
   "outputs": [],
   "source": [
    "df.head()"
   ]
  },
  {
   "cell_type": "code",
   "execution_count": null,
   "id": "89975666",
   "metadata": {},
   "outputs": [],
   "source": [
    "df = df[~df['user_score'].isnull()]\n",
    "df['user_score'].isna().mean()"
   ]
  },
  {
   "cell_type": "code",
   "execution_count": null,
   "id": "88496002",
   "metadata": {},
   "outputs": [],
   "source": [
    "xboxe_one_platform = df.loc[df['platform'] == 'XOne']\n",
    "pc_platform = df.loc[df['platform'] == 'PC']"
   ]
  },
  {
   "cell_type": "markdown",
   "id": "366c976d",
   "metadata": {},
   "source": [
    "    Построим нулевую гипотезу:\n",
    "    \n",
    "    H0 -> Предположим что средние пользовательские рейтинги по этим плафтормам равны (mean_x_one == mean_PC)\n",
    "    \n",
    "    H1 -> Альтернативная гипотеза будет гласить что их средние рейтинги не равны."
   ]
  },
  {
   "cell_type": "code",
   "execution_count": null,
   "id": "18fa8e70",
   "metadata": {},
   "outputs": [],
   "source": [
    "alpha = .05 "
   ]
  },
  {
   "cell_type": "code",
   "execution_count": null,
   "id": "e69d5f9f",
   "metadata": {},
   "outputs": [],
   "source": [
    "xboxe_one_platform['user_score'].hist()\n",
    "pc_platform['user_score'].hist(bins = 30)"
   ]
  },
  {
   "cell_type": "code",
   "execution_count": null,
   "id": "dc93144c",
   "metadata": {},
   "outputs": [],
   "source": [
    "len(xboxe_one_platform)"
   ]
  },
  {
   "cell_type": "code",
   "execution_count": null,
   "id": "ea1d3f94",
   "metadata": {},
   "outputs": [],
   "source": [
    "len(pc_platform)"
   ]
  },
  {
   "cell_type": "code",
   "execution_count": null,
   "id": "5097f54e",
   "metadata": {},
   "outputs": [],
   "source": [
    "np.var(xboxe_one_platform['user_score'], ddof = 1)"
   ]
  },
  {
   "cell_type": "code",
   "execution_count": null,
   "id": "8993f07b",
   "metadata": {},
   "outputs": [],
   "source": [
    "np.var(pc_platform['user_score'], ddof = 1)"
   ]
  },
  {
   "cell_type": "code",
   "execution_count": null,
   "id": "07c15365",
   "metadata": {},
   "outputs": [],
   "source": [
    "# Дисперсии равны "
   ]
  },
  {
   "cell_type": "code",
   "execution_count": null,
   "id": "0ba26dee",
   "metadata": {},
   "outputs": [],
   "source": [
    "scipy.stats.levene(xboxe_one_platform['user_score'], pc_platform['user_score'])"
   ]
  },
  {
   "cell_type": "code",
   "execution_count": null,
   "id": "61404570",
   "metadata": {},
   "outputs": [],
   "source": [
    "alpha = .05"
   ]
  },
  {
   "cell_type": "code",
   "execution_count": null,
   "id": "09871a90",
   "metadata": {},
   "outputs": [],
   "source": [
    "result_test = scipy.stats.ttest_ind(xboxe_one_platform['user_score'], pc_platform['user_score']) "
   ]
  },
  {
   "cell_type": "code",
   "execution_count": null,
   "id": "b8188df5",
   "metadata": {},
   "outputs": [],
   "source": [
    "if result_test.pvalue < .05:\n",
    "    \n",
    "    print('Отвергаем нулевую гипотезу')\n",
    "\n",
    "else:\n",
    "    \n",
    "    print('Нет оснований отвергать нулевую гипотезу')"
   ]
  },
  {
   "cell_type": "markdown",
   "id": "32802d2d",
   "metadata": {},
   "source": [
    "### Средние пользовательские рейтинги жанров Action (англ. «действие», экшен-игры) и Sports (англ. «спортивные соревнования») разные.\n",
    "\n",
    "H0 - предположим что среднии рейтинги этих жанров равны\n",
    "\n",
    "H1 - средние рейтинги этих жанров не равны\n",
    "\n",
    "alpha = 0.05"
   ]
  },
  {
   "cell_type": "code",
   "execution_count": null,
   "id": "e63f6bed",
   "metadata": {},
   "outputs": [],
   "source": [
    "df.head()"
   ]
  },
  {
   "cell_type": "code",
   "execution_count": null,
   "id": "119ade0a",
   "metadata": {},
   "outputs": [],
   "source": [
    "df['user_score'].isna().mean()"
   ]
  },
  {
   "cell_type": "code",
   "execution_count": null,
   "id": "66b363d6",
   "metadata": {},
   "outputs": [],
   "source": [
    "action_df = df[df['genre'] == 'action']\n",
    "sport_df = df[df['genre'] == 'sports']"
   ]
  },
  {
   "cell_type": "code",
   "execution_count": null,
   "id": "23037b8f",
   "metadata": {},
   "outputs": [],
   "source": [
    "len(action_df)"
   ]
  },
  {
   "cell_type": "code",
   "execution_count": null,
   "id": "5ac7aeff",
   "metadata": {},
   "outputs": [],
   "source": [
    "len(sport_df)"
   ]
  },
  {
   "cell_type": "code",
   "execution_count": null,
   "id": "c871d7ff",
   "metadata": {},
   "outputs": [],
   "source": [
    "action_df['user_score'].hist()\n",
    "sport_df['user_score'].hist(bins = 8)"
   ]
  },
  {
   "cell_type": "code",
   "execution_count": null,
   "id": "a331dbb1",
   "metadata": {},
   "outputs": [],
   "source": [
    "np.var(action_df['user_score'], ddof = 1)"
   ]
  },
  {
   "cell_type": "code",
   "execution_count": null,
   "id": "d1deedb6",
   "metadata": {},
   "outputs": [],
   "source": [
    "np.var(sport_df['user_score'], ddof = 1)"
   ]
  },
  {
   "cell_type": "code",
   "execution_count": null,
   "id": "7fe4af8f",
   "metadata": {},
   "outputs": [],
   "source": [
    "# Дисперсии +- равны"
   ]
  },
  {
   "cell_type": "code",
   "execution_count": null,
   "id": "452cb0e3",
   "metadata": {},
   "outputs": [],
   "source": [
    "result_test = scipy.stats.ttest_ind(action_df['user_score'], sport_df['user_score']) "
   ]
  },
  {
   "cell_type": "code",
   "execution_count": null,
   "id": "bf38d120",
   "metadata": {},
   "outputs": [],
   "source": [
    "result_test.pvalue"
   ]
  },
  {
   "cell_type": "code",
   "execution_count": null,
   "id": "6d21eac2",
   "metadata": {},
   "outputs": [],
   "source": [
    "if result_test.pvalue < 0.05:\n",
    "    \n",
    "    print('Отвергаем нулевую гипотезу')\n",
    "\n",
    "else:\n",
    "    \n",
    "    print('Нет причин отвергать нулевую гипотезу')"
   ]
  },
  {
   "cell_type": "markdown",
   "id": "72e60640",
   "metadata": {},
   "source": [
    "# Шаг 6. Напишите общий вывод"
   ]
  },
  {
   "cell_type": "markdown",
   "id": "1ebde7d5",
   "metadata": {},
   "source": [
    "1) В самом начале мы открыли и изучили общую информацию о данных\n",
    "\n",
    "2) На втором этапе мы создали 2 основные функции для предобработки данных и стали изучать данные по порядку\n",
    "\n",
    "3) Практически все пропуски по нужным столбцам мы удаляли, кроме столбца user_score, мы держали там пропуски до конца чтобы вначале оценить все нужные метрики хоть по каким-то данным, а когда понадобилилось проводить статистические тесты мы там и почистили все пропуски\n",
    "\n",
    "4) Также мы встретились с записью tbd, что значит что еще пользователи не успели оценить продукт, то есть можно считать это как обычный пропуск\n",
    "\n",
    "5) После чего мы выделили актуальный период продаж и начали смотреть на то как каждый год синергирует с нужными нам вопросами - Например мы выяснили какие данные лидируют по прождажам. Выбрали несколько потенциально хороших продуктов которые могут еще принести доход. Также мы выяснили что у всех топовых платформ с каждым годом уменьшается дохож в геометрической прогресси - что конечно же странно. \n",
    "\n",
    "6) Мы оценили основные жанры игр по 3м регионам и выяснили что у eu and na, все показатели +- схожие, но у jp, они отличаются по всем параметрам.\n",
    "\n",
    "7) После чего мы столкнулись с проверкой гипотез и получилось что у нас нет оснований отвергать ту гипотезу что средние пользовательские рейтинги PC and Xone равны\n",
    "\n",
    "8) Но мы отвергнули вторую гипотезу, что средние рейтинги пользователей по жанрам action and sports равны. pvalue оказался настолько мал что у нас не было смысла рассматривать дальнейшее развитие данной гипотезы"
   ]
  }
 ],
 "metadata": {
  "kernelspec": {
   "display_name": "Python 3",
   "language": "python",
   "name": "python3"
  },
  "language_info": {
   "codemirror_mode": {
    "name": "ipython",
    "version": 3
   },
   "file_extension": ".py",
   "mimetype": "text/x-python",
   "name": "python",
   "nbconvert_exporter": "python",
   "pygments_lexer": "ipython3",
   "version": "3.7.12"
  }
 },
 "nbformat": 4,
 "nbformat_minor": 5
}
